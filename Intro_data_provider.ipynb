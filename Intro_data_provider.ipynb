{
 "cells": [
  {
   "cell_type": "markdown",
   "metadata": {},
   "source": [
    "# Data Provider Intro\n",
    "\n",
    "Data provider allows you to fetch data from domino server"
   ]
  },
  {
   "cell_type": "code",
   "execution_count": 3,
   "metadata": {},
   "outputs": [],
   "source": [
    "import requests\n",
    "import json\n",
    "import pandas as pd\n",
    "response = requests.post(\"https://app-models.dominodatalab.com:443/models/5b2cf88ee4b0941477d689d8/latest/model\",\n",
    "                         auth=(\n",
    "                             \"ublYY9FcLTuLJKnkVVjuL07njcHhCEBVYvfMbkQDNtoe8zXkM1VNs10C78QAOR21\",\n",
    "                             \"ublYY9FcLTuLJKnkVVjuL07njcHhCEBVYvfMbkQDNtoe8zXkM1VNs10C78QAOR21\"\n",
    "                         ),\n",
    "                         json={\n",
    "                                \"data\": {\"end\": \"2018-08-31 19:00:00\", \"n\": 500, \"ntest\": 100, \"p\": 5, \"plist\": 5,\n",
    "                                         \"name\": \"Hourly\", \"method\": \"sin\", \"datestart\": \"2018-10-31 19:00:00\",\n",
    "                                         \"dateend\": \"2018-10-31 23:00:00\"}\n",
    "                         }\n",
    "                         )"
   ]
  },
  {
   "cell_type": "markdown",
   "metadata": {},
   "source": [
    "## Parameters\n",
    "\n",
    "* url: domino will provide the url\n",
    "* end: end date for getting real data\n",
    "* n: total number of real data points\n",
    "* ntest: number of test data among n data points\n",
    "* p: number of time series for generated data\n",
    "* plist: numnber of time series for M4 data\n",
    "* name: frequency. \n",
    "* method: data source. Options: M4, linear, sin\n",
    "* datestart: starting time of request data\n",
    "* dateend: ending time of request data\n",
    "\n",
    "## Example"
   ]
  },
  {
   "cell_type": "code",
   "execution_count": 4,
   "metadata": {},
   "outputs": [
    {
     "data": {
      "text/html": [
       "<div>\n",
       "<style scoped>\n",
       "    .dataframe tbody tr th:only-of-type {\n",
       "        vertical-align: middle;\n",
       "    }\n",
       "\n",
       "    .dataframe tbody tr th {\n",
       "        vertical-align: top;\n",
       "    }\n",
       "\n",
       "    .dataframe thead th {\n",
       "        text-align: right;\n",
       "    }\n",
       "</style>\n",
       "<table border=\"1\" class=\"dataframe\">\n",
       "  <thead>\n",
       "    <tr style=\"text-align: right;\">\n",
       "      <th></th>\n",
       "      <th>0</th>\n",
       "      <th>1</th>\n",
       "      <th>2</th>\n",
       "      <th>3</th>\n",
       "      <th>4</th>\n",
       "    </tr>\n",
       "  </thead>\n",
       "  <tbody>\n",
       "    <tr>\n",
       "      <th>2018-10-31 19:00:00</th>\n",
       "      <td>49.159298</td>\n",
       "      <td>95.267567</td>\n",
       "      <td>96.458125</td>\n",
       "      <td>0.360968</td>\n",
       "      <td>143.062189</td>\n",
       "    </tr>\n",
       "    <tr>\n",
       "      <th>2018-10-31 20:00:00</th>\n",
       "      <td>41.588429</td>\n",
       "      <td>102.603121</td>\n",
       "      <td>91.026162</td>\n",
       "      <td>0.494918</td>\n",
       "      <td>162.200810</td>\n",
       "    </tr>\n",
       "    <tr>\n",
       "      <th>2018-10-31 21:00:00</th>\n",
       "      <td>34.234124</td>\n",
       "      <td>109.728841</td>\n",
       "      <td>85.749580</td>\n",
       "      <td>0.625036</td>\n",
       "      <td>180.791969</td>\n",
       "    </tr>\n",
       "    <tr>\n",
       "      <th>2018-10-31 22:00:00</th>\n",
       "      <td>33.857899</td>\n",
       "      <td>110.093373</td>\n",
       "      <td>85.479645</td>\n",
       "      <td>0.631692</td>\n",
       "      <td>181.743040</td>\n",
       "    </tr>\n",
       "    <tr>\n",
       "      <th>2018-10-31 23:00:00</th>\n",
       "      <td>40.805652</td>\n",
       "      <td>103.361568</td>\n",
       "      <td>90.464534</td>\n",
       "      <td>0.508767</td>\n",
       "      <td>164.179613</td>\n",
       "    </tr>\n",
       "  </tbody>\n",
       "</table>\n",
       "</div>"
      ],
      "text/plain": [
       "                             0           1          2         3           4\n",
       "2018-10-31 19:00:00  49.159298   95.267567  96.458125  0.360968  143.062189\n",
       "2018-10-31 20:00:00  41.588429  102.603121  91.026162  0.494918  162.200810\n",
       "2018-10-31 21:00:00  34.234124  109.728841  85.749580  0.625036  180.791969\n",
       "2018-10-31 22:00:00  33.857899  110.093373  85.479645  0.631692  181.743040\n",
       "2018-10-31 23:00:00  40.805652  103.361568  90.464534  0.508767  164.179613"
      ]
     },
     "execution_count": 4,
     "metadata": {},
     "output_type": "execute_result"
    }
   ],
   "source": [
    "data = pd.read_json(json.loads(response.content)[\"result\"])\n",
    "data"
   ]
  },
  {
   "cell_type": "code",
   "execution_count": null,
   "metadata": {
    "collapsed": true
   },
   "outputs": [],
   "source": []
  }
 ],
 "metadata": {
  "kernelspec": {
   "display_name": "Python 3",
   "language": "python",
   "name": "python3"
  },
  "language_info": {
   "codemirror_mode": {
    "name": "ipython",
    "version": 3
   },
   "file_extension": ".py",
   "mimetype": "text/x-python",
   "name": "python",
   "nbconvert_exporter": "python",
   "pygments_lexer": "ipython3",
   "version": "3.6.3"
  }
 },
 "nbformat": 4,
 "nbformat_minor": 2
}
