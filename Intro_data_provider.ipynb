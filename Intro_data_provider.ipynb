{
 "cells": [
  {
   "cell_type": "markdown",
   "metadata": {},
   "source": [
    "# Data Provider Intro\n",
    "\n",
    "Data provider allows you to fetch data from domino server"
   ]
  },
  {
   "cell_type": "code",
   "execution_count": 1,
   "metadata": {},
   "outputs": [],
   "source": [
    "import requests\n",
    "import numpy as np\n",
    "import pandas as pd\n",
    "\n",
    "\n",
    "def get_data(url=\"https://app.dominodatalab.com/u/yihewang1234/data_provider/app\", end=\"2018-08-31 19:00:00\", n=500,\n",
    "             ntest=100, p=10, plist=10, name=\"Hourly\", method=\"M4\",\n",
    "             datestart=\"2018-06-15 19:00:00\", dateend=\"2018-07-01 19:00:00\"):\n",
    "    n = str(n)\n",
    "    ntest = str(ntest)\n",
    "    p = str(p)\n",
    "    plist = str(plist)\n",
    "    r = requests.get(url, headers={\"end\": end, \"n\": n, \"ntest\": ntest, \"p\": p, \"plist\": plist, \"name\": name,\n",
    "                                   \"method\": method, \"datestart\": datestart, \"dateend\": dateend})\n",
    "    return pd.read_json(r.content)\n",
    "\n"
   ]
  },
  {
   "cell_type": "markdown",
   "metadata": {},
   "source": [
    "## Parameters\n",
    "\n",
    "* url: domino will provide the url\n",
    "* end: end date for getting real data\n",
    "* n: total number of real data points\n",
    "* ntest: number of test data among n data points\n",
    "* p: number of time series for generated data\n",
    "* plist: numnber of time series for M4 data\n",
    "* name: frequency. \n",
    "* method: data source. Options: M4, linear, sin\n",
    "* datestart: starting time of request data\n",
    "* dateend: ending time of request data\n",
    "\n",
    "## Example"
   ]
  },
  {
   "cell_type": "code",
   "execution_count": 4,
   "metadata": {},
   "outputs": [
    {
     "data": {
      "text/html": [
       "<div>\n",
       "<style scoped>\n",
       "    .dataframe tbody tr th:only-of-type {\n",
       "        vertical-align: middle;\n",
       "    }\n",
       "\n",
       "    .dataframe tbody tr th {\n",
       "        vertical-align: top;\n",
       "    }\n",
       "\n",
       "    .dataframe thead th {\n",
       "        text-align: right;\n",
       "    }\n",
       "</style>\n",
       "<table border=\"1\" class=\"dataframe\">\n",
       "  <thead>\n",
       "    <tr style=\"text-align: right;\">\n",
       "      <th></th>\n",
       "      <th>0</th>\n",
       "      <th>1</th>\n",
       "      <th>2</th>\n",
       "      <th>3</th>\n",
       "      <th>4</th>\n",
       "    </tr>\n",
       "  </thead>\n",
       "  <tbody>\n",
       "    <tr>\n",
       "      <th>2018-06-15 19:00:00</th>\n",
       "      <td>661</td>\n",
       "      <td>2490</td>\n",
       "      <td>1809</td>\n",
       "      <td>6194</td>\n",
       "      <td>3324</td>\n",
       "    </tr>\n",
       "    <tr>\n",
       "      <th>2018-06-15 20:00:00</th>\n",
       "      <td>632</td>\n",
       "      <td>2448</td>\n",
       "      <td>1755</td>\n",
       "      <td>5962</td>\n",
       "      <td>3108</td>\n",
       "    </tr>\n",
       "    <tr>\n",
       "      <th>2018-06-15 21:00:00</th>\n",
       "      <td>573</td>\n",
       "      <td>2277</td>\n",
       "      <td>1685</td>\n",
       "      <td>5810</td>\n",
       "      <td>2946</td>\n",
       "    </tr>\n",
       "    <tr>\n",
       "      <th>2018-06-15 22:00:00</th>\n",
       "      <td>521</td>\n",
       "      <td>1997</td>\n",
       "      <td>1618</td>\n",
       "      <td>5525</td>\n",
       "      <td>2767</td>\n",
       "    </tr>\n",
       "    <tr>\n",
       "      <th>2018-06-15 23:00:00</th>\n",
       "      <td>481</td>\n",
       "      <td>1785</td>\n",
       "      <td>1487</td>\n",
       "      <td>5123</td>\n",
       "      <td>2495</td>\n",
       "    </tr>\n",
       "  </tbody>\n",
       "</table>\n",
       "</div>"
      ],
      "text/plain": [
       "                       0     1     2     3     4\n",
       "2018-06-15 19:00:00  661  2490  1809  6194  3324\n",
       "2018-06-15 20:00:00  632  2448  1755  5962  3108\n",
       "2018-06-15 21:00:00  573  2277  1685  5810  2946\n",
       "2018-06-15 22:00:00  521  1997  1618  5525  2767\n",
       "2018-06-15 23:00:00  481  1785  1487  5123  2495"
      ]
     },
     "execution_count": 4,
     "metadata": {},
     "output_type": "execute_result"
    }
   ],
   "source": [
    "data = get_data(datestart=\"2018-06-15 19:00:00\", dateend=\"2018-06-15 23:00:00\", plist=5)\n",
    "data.head()"
   ]
  },
  {
   "cell_type": "code",
   "execution_count": null,
   "metadata": {},
   "outputs": [],
   "source": []
  }
 ],
 "metadata": {
  "kernelspec": {
   "display_name": "Python 3",
   "language": "python",
   "name": "python3"
  },
  "language_info": {
   "codemirror_mode": {
    "name": "ipython",
    "version": 3
   },
   "file_extension": ".py",
   "mimetype": "text/x-python",
   "name": "python",
   "nbconvert_exporter": "python",
   "pygments_lexer": "ipython3",
   "version": "3.6.5"
  }
 },
 "nbformat": 4,
 "nbformat_minor": 2
}
